{
 "cells": [
  {
   "cell_type": "code",
   "execution_count": 23,
   "id": "8a64249b",
   "metadata": {},
   "outputs": [
    {
     "data": {
      "text/plain": [
       "'d:\\\\End-End DS Project'"
      ]
     },
     "execution_count": 23,
     "metadata": {},
     "output_type": "execute_result"
    }
   ],
   "source": [
    "import os\n",
    "os.chdir(\"End-End DS Project\")\n",
    "%pwd"
   ]
  },
  {
   "cell_type": "code",
   "execution_count": 24,
   "id": "def195ed",
   "metadata": {},
   "outputs": [
    {
     "name": "stdout",
     "output_type": "stream",
     "text": [
      "[2025-04-17 12:15:18,305: INFO: _client: HTTP Request: GET https://dagshub.com/api/v1/repos/abheshith7/WineQuality-Prediction-Pipeline \"HTTP/1.1 200 OK\"]\n"
     ]
    },
    {
     "data": {
      "text/html": [
       "<pre style=\"white-space:pre;overflow-x:auto;line-height:normal;font-family:Menlo,'DejaVu Sans Mono',consolas,'Courier New',monospace\">Initialized MLflow to track repo <span style=\"color: #008000; text-decoration-color: #008000\">\"abheshith7/WineQuality-Prediction-Pipeline\"</span>\n",
       "</pre>\n"
      ],
      "text/plain": [
       "Initialized MLflow to track repo \u001b[32m\"abheshith7/WineQuality-Prediction-Pipeline\"\u001b[0m\n"
      ]
     },
     "metadata": {},
     "output_type": "display_data"
    },
    {
     "name": "stdout",
     "output_type": "stream",
     "text": [
      "[2025-04-17 12:15:18,312: INFO: helpers: Initialized MLflow to track repo \"abheshith7/WineQuality-Prediction-Pipeline\"]\n"
     ]
    },
    {
     "data": {
      "text/html": [
       "<pre style=\"white-space:pre;overflow-x:auto;line-height:normal;font-family:Menlo,'DejaVu Sans Mono',consolas,'Courier New',monospace\">Repository abheshith7/WineQuality-Prediction-Pipeline initialized!\n",
       "</pre>\n"
      ],
      "text/plain": [
       "Repository abheshith7/WineQuality-Prediction-Pipeline initialized!\n"
      ]
     },
     "metadata": {},
     "output_type": "display_data"
    },
    {
     "name": "stdout",
     "output_type": "stream",
     "text": [
      "[2025-04-17 12:15:18,327: INFO: helpers: Repository abheshith7/WineQuality-Prediction-Pipeline initialized!]\n"
     ]
    }
   ],
   "source": [
    "import dagshub\n",
    "dagshub.init(repo_owner='abheshith7', repo_name='WineQuality-Prediction-Pipeline', mlflow=True)"
   ]
  },
  {
   "cell_type": "code",
   "execution_count": 25,
   "id": "77c046f2",
   "metadata": {},
   "outputs": [],
   "source": [
    "os.environ[\"MLFLOW_TRACKING_URI\"] = \"https://dagshub.com/abheshith7/WineQuality-Prediction-Pipeline.mlflow\""
   ]
  },
  {
   "cell_type": "code",
   "execution_count": 26,
   "id": "4d9954ec",
   "metadata": {},
   "outputs": [],
   "source": [
    "from dataclasses import dataclass\n",
    "from pathlib import Path\n",
    "\n",
    "@dataclass\n",
    "class ModelEvaluationConfig:\n",
    "    root_dir: Path\n",
    "    model_path: Path\n",
    "    test_data_path: Path\n",
    "    all_params: dict\n",
    "    metrics_file_name: Path\n",
    "    target_column: str\n",
    "    mlflow_uri: str"
   ]
  },
  {
   "cell_type": "code",
   "execution_count": 27,
   "id": "594ae51e",
   "metadata": {},
   "outputs": [],
   "source": [
    "from src.DataScience.constants import *\n",
    "from src.DataScience.utils.common import read_yaml, create_directories, save_json\n",
    "\n",
    "class ConfigurationManager:\n",
    "    def __init__(self, config_filepath = CONFIG_FILE_PATH, \n",
    "                       params_filepath = PARAMS_FILE_PATH, \n",
    "                       schema_filepath = SCHEMA_FILE_PATH):\n",
    "        \n",
    "        self.config = read_yaml(config_filepath)\n",
    "        self.params = read_yaml(params_filepath)\n",
    "        self.schema = read_yaml(schema_filepath)\n",
    "\n",
    "\n",
    "        create_directories([self.config.artifacts_root])\n",
    "\n",
    "    def get_model_evaluation_config(self) -> ModelEvaluationConfig:\n",
    "        config = self.config.model_evaluation\n",
    "        schema = self.schema.TARGET_COLUMN\n",
    "        params = self.params.Elasticnet\n",
    "\n",
    "        create_directories([config.root_dir])\n",
    "\n",
    "        model_evaluation_config = ModelEvaluationConfig(\n",
    "            root_dir = config.root_dir,\n",
    "            model_path = config.model_path,\n",
    "            test_data_path = config.test_data_path,\n",
    "            all_params = params,\n",
    "            metrics_file_name = config.metrics_file_name,\n",
    "            target_column = schema.name,\n",
    "            mlflow_uri =  \"https://dagshub.com/abheshith7/WineQuality-Prediction-Pipeline.mlflow\"\n",
    "        )\n",
    "        return model_evaluation_config"
   ]
  },
  {
   "cell_type": "code",
   "execution_count": 28,
   "id": "9015c204",
   "metadata": {},
   "outputs": [],
   "source": [
    "from src.DataScience import logger\n",
    "from sklearn.metrics import mean_squared_error, mean_absolute_error, r2_score\n",
    "import mlflow\n",
    "import mlflow.sklearn\n",
    "import pandas as pd\n",
    "import numpy as np\n",
    "from mlflow.models import infer_signature\n",
    "import joblib\n",
    "import os\n",
    "from urllib.parse import urlparse"
   ]
  },
  {
   "cell_type": "code",
   "execution_count": 31,
   "id": "aa6babe9",
   "metadata": {},
   "outputs": [],
   "source": [
    "class ModelEvaluation:\n",
    "    def __init__(self, config: ModelEvaluationConfig):\n",
    "        self.config = config\n",
    "\n",
    "    def eval_metrics(self, actual, pred):\n",
    "        rmse = np.sqrt(mean_squared_error(actual, pred))\n",
    "        mae = mean_absolute_error(actual, pred)\n",
    "        r2 = r2_score(actual, pred)\n",
    "        return rmse, mae, r2\n",
    "    \n",
    "    def log_into_mlflow(self):\n",
    "\n",
    "        test_data = pd.read_csv(self.config.test_data_path)\n",
    "        model = joblib.load(self.config.model_path)\n",
    "\n",
    "        X_test = test_data.drop(self.config.target_column, axis=1)\n",
    "        y_test = test_data[self.config.target_column]\n",
    "\n",
    "        mlflow.set_registry_uri(self.config.mlflow_uri)\n",
    "        tracking_url_type_store = urlparse(mlflow.get_tracking_uri()).scheme\n",
    "\n",
    "        with mlflow.start_run():\n",
    "\n",
    "            predictions = model.predict(X_test)\n",
    "\n",
    "            (rmse, mae, r2) = self.eval_metrics(y_test, predictions)\n",
    "\n",
    "            mlflow.log_params(self.config.all_params)\n",
    "\n",
    "            mlflow.log_metric(\"rmse\", rmse)\n",
    "            mlflow.log_metric(\"mae\", mae)\n",
    "            mlflow.log_metric(\"r2\", r2)\n",
    "\n",
    "            # Save metrics as a local JSON file\n",
    "            metrics = {\n",
    "                \"rmse\": rmse,\n",
    "                \"mae\": mae,\n",
    "                \"r2\": r2\n",
    "            }\n",
    "            save_json(Path(self.config.metrics_file_name), metrics)\n",
    "\n",
    "            if tracking_url_type_store != \"file\":\n",
    "                mlflow.sklearn.log_model(model, \"model\", registered_model_name=\"ElasticNetModel\")\n",
    "            else:\n",
    "                mlflow.sklearn.log_model(model, \"model\")\n",
    "                \n",
    "            "
   ]
  },
  {
   "cell_type": "code",
   "execution_count": 32,
   "id": "f3107219",
   "metadata": {},
   "outputs": [
    {
     "name": "stdout",
     "output_type": "stream",
     "text": [
      "[2025-04-17 12:16:34,968: INFO: common: yaml file: config\\config.yaml loaded sucessfully]\n",
      "[2025-04-17 12:16:34,971: INFO: common: yaml file: params.yaml loaded sucessfully]\n",
      "[2025-04-17 12:16:34,974: INFO: common: yaml file: schema.yaml loaded sucessfully]\n",
      "[2025-04-17 12:16:34,975: INFO: common: Creating a Directory at: artifacts]\n",
      "[2025-04-17 12:16:34,978: INFO: common: Creating a Directory at: artifacts/model_evaluation]\n",
      "[2025-04-17 12:16:36,994: INFO: common: json file saved at: artifacts\\model_evaluation\\metrics.json]\n"
     ]
    },
    {
     "name": "stderr",
     "output_type": "stream",
     "text": [
      "2025/04/17 12:16:42 WARNING mlflow.models.model: Model logged without a signature and input example. Please set `input_example` parameter when logging the model to auto infer the model signature.\n",
      "Registered model 'ElasticNetModel' already exists. Creating a new version of this model...\n",
      "2025/04/17 12:16:46 INFO mlflow.store.model_registry.abstract_store: Waiting up to 300 seconds for model version to finish creation. Model name: ElasticNetModel, version 2\n",
      "Created version '2' of model 'ElasticNetModel'.\n"
     ]
    },
    {
     "name": "stdout",
     "output_type": "stream",
     "text": [
      "🏃 View run bald-stork-680 at: https://dagshub.com/abheshith7/WineQuality-Prediction-Pipeline.mlflow/#/experiments/0/runs/1972c6fbcc7949f58451803d79ed6183\n",
      "🧪 View experiment at: https://dagshub.com/abheshith7/WineQuality-Prediction-Pipeline.mlflow/#/experiments/0\n"
     ]
    }
   ],
   "source": [
    "try:\n",
    "    config = ConfigurationManager()\n",
    "    model_eval_config = config.get_model_evaluation_config()\n",
    "    model_eval = ModelEvaluation(model_eval_config)\n",
    "    model_eval.log_into_mlflow()\n",
    "except Exception as e:\n",
    "    logger.exception(e)\n",
    "    raise e"
   ]
  },
  {
   "cell_type": "code",
   "execution_count": null,
   "id": "ffa872a9",
   "metadata": {},
   "outputs": [],
   "source": []
  }
 ],
 "metadata": {
  "kernelspec": {
   "display_name": "mlops_venv",
   "language": "python",
   "name": "python3"
  },
  "language_info": {
   "codemirror_mode": {
    "name": "ipython",
    "version": 3
   },
   "file_extension": ".py",
   "mimetype": "text/x-python",
   "name": "python",
   "nbconvert_exporter": "python",
   "pygments_lexer": "ipython3",
   "version": "3.9.7"
  }
 },
 "nbformat": 4,
 "nbformat_minor": 5
}
